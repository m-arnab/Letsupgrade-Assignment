{
 "metadata": {
  "language_info": {
   "codemirror_mode": {
    "name": "ipython",
    "version": 3
   },
   "file_extension": ".py",
   "mimetype": "text/x-python",
   "name": "python",
   "nbconvert_exporter": "python",
   "pygments_lexer": "ipython3",
   "version": "3.9.1-final"
  },
  "orig_nbformat": 2,
  "kernelspec": {
   "name": "python3",
   "display_name": "Python 3",
   "language": "python"
  }
 },
 "nbformat": 4,
 "nbformat_minor": 2,
 "cells": [
  {
   "cell_type": "code",
   "execution_count": 4,
   "metadata": {},
   "outputs": [
    {
     "output_type": "stream",
     "name": "stdout",
     "text": [
      "original list['45', '', '4', 'gol', '']\nmodified list['45', '4', 'gol']\n"
     ]
    }
   ],
   "source": [
    "#Q1. Write a Python program to remove empty List from List.\n",
    "l1=[]\n",
    "while True:\n",
    "    ele=input(\"enter element: \")\n",
    "    if(ele=='done'):\n",
    "        #once write done program will end show the result\n",
    "        break\n",
    "    else:\n",
    "        l1.append(ele)\n",
    "        res=list(filter(None, l1))\n",
    "print('original list'+str(l1))\n",
    "print('modified list'+str(res))\n"
   ]
  },
  {
   "cell_type": "code",
   "execution_count": 16,
   "metadata": {},
   "outputs": [
    {
     "output_type": "stream",
     "name": "stdout",
     "text": [
      "Original sentence is ::> I love python and python love me\nAfter removing duplicate words the sentence is ::> I love python and me\n"
     ]
    }
   ],
   "source": [
    "#Q2. Write a Python program to remove all duplicates words from a given sentence.\n",
    "st = input(\"Enter the sentence\")\n",
    "mst = st.split(\" \")\n",
    "for i in range(0, len(mst)):\n",
    "      mst[i] = \"\".join(mst[i])\n",
    "      dupli = Counter(mst)\n",
    "      s = \" \".join(dupli.keys())\n",
    "print (\"Original sentence is ::>\",st)\n",
    "print (\"After removing duplicate words the sentence is ::>\",s)"
   ]
  },
  {
   "cell_type": "code",
   "execution_count": 18,
   "metadata": {},
   "outputs": [
    {
     "output_type": "stream",
     "name": "stdout",
     "text": [
      "Entered string: I love python\no  is Found at Position  4\no  is Found at Position  12\n"
     ]
    }
   ],
   "source": [
    "#Q3. Write a Python program to find all occurrences of a character in the given string\n",
    "str1 = input(\"Please enter your own String : \")\n",
    "ch = input(\"Please enter your own Character : \")\n",
    "print(\"Entered string: \"+str1)\n",
    "for i in range(len(str1)):\n",
    "    if(str1[i] == ch ):\n",
    "        print(ch, \" is Found at Position \" , i + 1)"
   ]
  },
  {
   "cell_type": "code",
   "execution_count": null,
   "metadata": {},
   "outputs": [],
   "source": []
  }
 ]
}