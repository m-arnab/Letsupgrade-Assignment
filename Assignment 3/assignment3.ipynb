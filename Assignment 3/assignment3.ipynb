{
 "metadata": {
  "language_info": {
   "codemirror_mode": {
    "name": "ipython",
    "version": 3
   },
   "file_extension": ".py",
   "mimetype": "text/x-python",
   "name": "python",
   "nbconvert_exporter": "python",
   "pygments_lexer": "ipython3",
   "version": "3.9.1-final"
  },
  "orig_nbformat": 2,
  "kernelspec": {
   "name": "python3",
   "display_name": "Python 3",
   "language": "python"
  }
 },
 "nbformat": 4,
 "nbformat_minor": 2,
 "cells": [
  {
   "cell_type": "code",
   "execution_count": 14,
   "metadata": {},
   "outputs": [
    {
     "output_type": "stream",
     "name": "stdout",
     "text": [
      "File 1:\nhi I am Arnab\nI am a student\nFile 2:\nI love to learn new things\nI love python\nFile 3:\nhi I am Arnab\nI am a student\nI love to learn new things\nI love python\n"
     ]
    }
   ],
   "source": [
    "#Q1. Write a Python program to merge two files into a third file.\n",
    "with open('file1.txt') as fp: \n",
    "    data = fp.read() \n",
    "    print(\"File 1:\\n\"+data)\n",
    "  \n",
    "# Reading data from file2 \n",
    "with open('file2.txt') as fp: \n",
    "    data2 = fp.read()\n",
    "    print(\"File 2:\\n\"+data2) \n",
    "  \n",
    "# Merging 2 files \n",
    "# To add the data of file2 \n",
    "# from next line \n",
    "data += \"\\n\"\n",
    "data += data2 \n",
    "  \n",
    "with open ('file3.txt', 'w') as fp: \n",
    "    fp.write(data)\n",
    "    print(\"File 3:\\n\"+data) "
   ]
  },
  {
   "cell_type": "code",
   "execution_count": 17,
   "metadata": {},
   "outputs": [
    {
     "output_type": "stream",
     "name": "stdout",
     "text": [
      "{1: 'a', 2: 'b', 3: 'c', 4: 'd', 5: 'e'}\n"
     ]
    }
   ],
   "source": [
    "#Q2. Take two lists as input list1 = [1,2,3,4,5] and list2 = [\"a\", \"b\", \"c\", \"d\", \"e\"] From that make a dictionary ouput {1:\"a\", 2:\"b\", 3:\"c\", 4:\"d\", 5:\"e\"}\n",
    "list1 = [1,2,3,4,5]\n",
    "list2 = [\"a\", \"b\", \"c\", \"d\", \"e\"]\n",
    "dictionary = dict(zip(list1, list2))\n",
    "print(dictionary)"
   ]
  },
  {
   "cell_type": "code",
   "execution_count": null,
   "metadata": {},
   "outputs": [],
   "source": []
  }
 ]
}